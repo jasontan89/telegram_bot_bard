{
 "cells": [
  {
   "cell_type": "code",
   "execution_count": 1,
   "id": "f1c5d2bc",
   "metadata": {},
   "outputs": [],
   "source": [
    "# pip install bardapi\n",
    "#!pip install telegram-text"
   ]
  },
  {
   "cell_type": "code",
   "execution_count": 2,
   "id": "3f5b4884",
   "metadata": {},
   "outputs": [],
   "source": [
    "#5684873734:AAGw8VGNx0dREhr_4Z4IG3P1UtWxHmNta5Q\n",
    "# !pip install pyTelegramBotAPI"
   ]
  },
  {
   "cell_type": "code",
   "execution_count": 3,
   "id": "7719f7d2",
   "metadata": {},
   "outputs": [
    {
     "name": "stdout",
     "output_type": "stream",
     "text": [
      "env: BOT_TOKEN=5684873734:AAGw8VGNx0dREhr_4Z4IG3P1UtWxHmNta5Q\n"
     ]
    }
   ],
   "source": [
    "%env BOT_TOKEN=5684873734:AAGw8VGNx0dREhr_4Z4IG3P1UtWxHmNta5Q"
   ]
  },
  {
   "cell_type": "code",
   "execution_count": 4,
   "id": "51a41eb7",
   "metadata": {},
   "outputs": [],
   "source": [
    "import os\n",
    "\n",
    "import telebot\n",
    "\n",
    "from telegram_text import PlainText\n",
    "from telebot import types\n",
    "\n",
    "BOT_TOKEN = os.environ.get('BOT_TOKEN')\n",
    "TRANSLATE=\"I want you to act as an English translator, spelling corrector and improver. I will speak to you in any language and you will detect the language, translate it and answer in the corrected and improved version of my text, in English. I want you to replace my simplified A0-level words and sentences with more beautiful and elegant, upper level English words and sentences. Keep the meaning same, but make them more literary. I want you to only reply the correction, the improvements and nothing else, do not write explanations. \"\n",
    "COMEDIAN=\"I want you to act as a stand-up comedian. I will provide you with some topics related to current events and you will use your wit, creativity, and observational skills to create a routine based on those topics. You should also be sure to incorporate personal anecdotes or experiences into the routine in order to make it more relatable and engaging for the audience. \"\n",
    "INTERVIEW=\"I want you to act as an interviewer. I will be the candidate and you will ask me the interview questions for the position position. I want you to only reply as the interviewer. Do not write all the conservation at once. I want you to only do the interview with me. Ask me the questions and wait for my answers. Do not write explanations. Ask me the questions one by one like an interviewer does and wait for my answers. \"\n",
    "bot = telebot.TeleBot(BOT_TOKEN)\n",
    "\n",
    "import requests\n",
    "\n",
    "# def get_daily_horoscope(sign: str, day: str) -> dict:\n",
    "#     \"\"\"Get daily horoscope for a zodiac sign.\n",
    "#     Keyword arguments:\n",
    "#     sign:str - Zodiac sign\n",
    "#     day:str - Date in format (YYYY-MM-DD) OR TODAY OR TOMORROW OR YESTERDAY\n",
    "#     Return:dict - JSON data\n",
    "#     \"\"\"\n",
    "#     url = \"https://horoscope-app-api.vercel.app/api/v1/get-horoscope/daily\"\n",
    "#     params = {\"sign\": sign, \"day\": day}\n",
    "#     response = requests.get(url, params)\n",
    "\n",
    "#     return response.json()"
   ]
  },
  {
   "cell_type": "code",
   "execution_count": 5,
   "id": "2efa2b23",
   "metadata": {},
   "outputs": [
    {
     "data": {
      "text/plain": [
       "'5684873734:AAGw8VGNx0dREhr_4Z4IG3P1UtWxHmNta5Q'"
      ]
     },
     "execution_count": 5,
     "metadata": {},
     "output_type": "execute_result"
    }
   ],
   "source": [
    "BOT_TOKEN"
   ]
  },
  {
   "cell_type": "code",
   "execution_count": 6,
   "id": "b7ad023c",
   "metadata": {},
   "outputs": [],
   "source": [
    "# @bot.message_handler(commands=['start', 'hello'])\n",
    "# def send_welcome(message):\n",
    "#     bot.reply_to(message, \"Howdy, how are you doing?\")\n",
    "    \n",
    "# @bot.message_handler(commands=['Bard'])\n",
    "# def sent_msg(message):\n",
    "#     bot.reply_to(message, \"Proceeding to BardAPI\")\n",
    "    \n",
    "# @bot.message_handler(commands=['horoscope'])\n",
    "# def sign_handler(message):\n",
    "#     text = \"What's your zodiac sign?\\nChoose one: *Aries*, *Taurus*, *Gemini*, *Cancer,* *Leo*, *Virgo*, *Libra*, *Scorpio*, *Sagittarius*, *Capricorn*, *Aquarius*, and *Pisces*.\"\n",
    "#     sent_msg = bot.send_message(message.chat.id, text, parse_mode=\"Markdown\")\n",
    "#     bot.register_next_step_handler(sent_msg, day_handler)\n",
    "    \n",
    "# def day_handler(message):\n",
    "#     sign = message.text\n",
    "#     text = \"What day do you want to know?\\nChoose one: *TODAY*, *TOMORROW*, *YESTERDAY*, or a date in format YYYY-MM-DD.\"\n",
    "#     sent_msg = bot.send_message(\n",
    "#         message.chat.id, text, parse_mode=\"Markdown\")\n",
    "#     bot.register_next_step_handler(\n",
    "#         sent_msg, fetch_horoscope, sign.capitalize())\n",
    "    \n",
    "# def fetch_horoscope(message, sign):\n",
    "#     day = message.text\n",
    "#     horoscope = get_daily_horoscope(sign, day)\n",
    "#     data = horoscope[\"data\"]\n",
    "#     horoscope_message = f'*Horoscope:* {data[\"horoscope_data\"]}\\\\n*Sign:* {sign}\\\\n*Day:* {data[\"date\"]}'\n",
    "#     bot.send_message(message.chat.id, \"Here's your horoscope!\")\n",
    "#     bot.send_message(message.chat.id, horoscope_message, parse_mode=\"Markdown\")"
   ]
  },
  {
   "cell_type": "code",
   "execution_count": 7,
   "id": "fb28281a",
   "metadata": {},
   "outputs": [],
   "source": [
    "from bardapi import Bard\n",
    "import os\n",
    "import requests\n",
    "os.environ['_BARD_API_KEY'] = 'WQhLk4GQNBYsdSM6EJPh7bVr0nwjeLksQkmb99-ymDWiilfPrg5HFZcUKKdgywoN-1nRWQ.'\n",
    "# token='xxxxxxxxxxx'\n",
    "\n",
    "def bard_api(message):\n",
    "    session = requests.Session()\n",
    "    session.headers = {\n",
    "                \"Host\": \"bard.google.com\",\n",
    "                \"X-Same-Domain\": \"1\",\n",
    "                \"User-Agent\": \"Mozilla/5.0 (Windows NT 10.0; WOW64) AppleWebKit/537.36 (KHTML, like Gecko) Chrome/91.0.4472.114 Safari/537.36\",\n",
    "                \"Content-Type\": \"application/x-www-form-urlencoded;charset=UTF-8\",\n",
    "                \"Origin\": \"https://bard.google.com\",\n",
    "                \"Referer\": \"https://bard.google.com/\",\n",
    "            }\n",
    "    session.cookies.set(\"__Secure-1PSID\", os.getenv(\"_BARD_API_KEY\")) \n",
    "    # session.cookies.set(\"__Secure-1PSID\", token) \n",
    "    #print(message)\n",
    "    bard = Bard(session=session, timeout=30)\n",
    "    #print(bard.get_answer(message)['content'])\n",
    "    bard.get_answer(\"What is my last prompt??\")['content']\n",
    "    return str(bard.get_answer(message)['content'])\n",
    "\n",
    "    # Continued conversation without set new session\n",
    "    #bard.get_answer(\"What is my last prompt??\")['content']"
   ]
  },
  {
   "cell_type": "code",
   "execution_count": 8,
   "id": "278e9ef8",
   "metadata": {},
   "outputs": [],
   "source": [
    "@bot.message_handler(commands=['start', 'hello'])\n",
    "def send_welcome(message):\n",
    "    bot.reply_to(message, \"Howdy, how are you doing?\")\n",
    "    markup = types.ReplyKeyboardMarkup(row_width=2)\n",
    "    itembtn1 = types.KeyboardButton('Translation')\n",
    "    itembtn2 = types.KeyboardButton('Stand-up Comedian')\n",
    "    itembtn3 = types.KeyboardButton('Interview Practise')\n",
    "    itembtn4 = types.KeyboardButton('Normal Bard')\n",
    "    markup.add(itembtn1, itembtn2, itembtn3,itembtn4)\n",
    "    sent_msg = bot.send_message(message.chat.id, \"Choose which services of Bard you want to use:\", reply_markup=markup)\n",
    "    bot.register_next_step_handler(sent_msg, options)\n",
    "    \n",
    "# @bot.message_handler(commands=['Bard'])\n",
    "# def sent_msg(message):\n",
    "#     bot.reply_to(message, \"Proceeding to BardAPI\")\n",
    "    \n",
    "# @bot.message_handler(commands=['horoscope'])\n",
    "# def sign_handler(message):\n",
    "#     text = \"What's your zodiac sign?\\nChoose one: *Aries*, *Taurus*, *Gemini*, *Cancer,* *Leo*, *Virgo*, *Libra*, *Scorpio*, *Sagittarius*, *Capricorn*, *Aquarius*, and *Pisces*.\"\n",
    "#     sent_msg = bot.send_message(message.chat.id, text, parse_mode=\"Markdown\")\n",
    "#     bot.register_next_step_handler(sent_msg, day_handler)\n",
    "def options(message):\n",
    "    print(message.text)\n",
    "    if message.text==\"Translation\":\n",
    "        print(\"translate\")\n",
    "        sent_msg =bot.send_message(message.chat.id, \"Please type in what you want to translate to English:\", parse_mode=\"Markdown\")\n",
    "#         message.text= + message.text\n",
    "#         print(message.text)\n",
    "        bot.register_next_step_handler(sent_msg, fetch_horoscope,mode=\"translate\")\n",
    "\n",
    "    elif message.text==\"Stand-up Comedian\": \n",
    "        print(\"Stand-up Comedian\")\n",
    "        sent_msg =bot.send_message(message.chat.id, \"Please type in the type of humor you like:\", parse_mode=\"Markdown\")\n",
    "#         message.text= + message.text\n",
    "#         print(message.text)\n",
    "        bot.register_next_step_handler(sent_msg, fetch_horoscope,mode=\"funny\")\n",
    "    elif message.text==\"Interview Practise\":\n",
    "        print(\"Interview Practise\")\n",
    "        sent_msg =bot.send_message(message.chat.id, \"Please type in your first sentence in the interview:\", parse_mode=\"Markdown\")\n",
    "#         message.text= + message.text\n",
    "#         print(message.text)\n",
    "        bot.register_next_step_handler(sent_msg, fetch_horoscope,mode=\"interview\")\n",
    "    else:\n",
    "        print(\"Normal Bard\")\n",
    "        sent_msg =bot.send_message(message.chat.id, \"I’m Bard, your creative and helpful collaborator. I have limitations and won’t always get it right, but your feedback will help me improve. Enter your prompt here:\", parse_mode=\"Markdown\")\n",
    "        bot.register_next_step_handler(sent_msg, fetch_horoscope,mode=\"normal\")\n",
    "#     day = message.text\n",
    "#     bardmsg = bard_api(day)\n",
    "#     data = bardmsg\n",
    "    \n",
    "#     element = PlainText(data)\n",
    "#     escaped_text = element.to_html()\n",
    "  \n",
    "#     bot.send_message(message.chat.id, \"Here's your finding from Bard!\")\n",
    "#     bot.send_message(message.chat.id, escaped_text, parse_mode=\"Markdown\")\n",
    "\n",
    "@bot.message_handler(commands=['Bard'])\n",
    "def day_handler(message):\n",
    "    #sign = message.text\n",
    "    text = \"Please type the topic on what you want to know.\"\n",
    "    sent_msg = bot.send_message(\n",
    "        message.chat.id, text, parse_mode=\"Markdown\")\n",
    "    bot.register_next_step_handler(\n",
    "        sent_msg, fetch_horoscope)\n",
    "    \n",
    "def fetch_horoscope(message,mode):\n",
    "    if mode==\"translate\":\n",
    "        day = TRANSLATE + message.text\n",
    "    elif mode==\"funny\":\n",
    "        day= COMEDIAN + message.text\n",
    "    elif mode==\"interview\":\n",
    "        day=INTERVIEW+ message.text\n",
    "    else:\n",
    "        day=message.text\n",
    "    bardmsg = bard_api(day)\n",
    "    data = bardmsg\n",
    "    \n",
    "    element = PlainText(data)\n",
    "    escaped_text = element.to_html()\n",
    "    #escaped_text\n",
    "    print(escaped_text)\n",
    "    #horoscope_message = f'*Horoscope:* {data[\"horoscope_data\"]}\\\\n*Sign:* {sign}\\\\n*Day:* {data[\"date\"]}'\n",
    "    bot.send_message(message.chat.id, \"Here's your finding from Bard!\")\n",
    "    bot.send_message(message.chat.id, escaped_text, parse_mode=\"HTML\")\n",
    "    \n",
    "# def fetch_horoscope(message, sign):\n",
    "#     day = message.text\n",
    "#     horoscope = get_daily_horoscope(sign, day)\n",
    "#     data = horoscope[\"data\"]\n",
    "#     horoscope_message = f'*Horoscope:* {data[\"horoscope_data\"]}\\\\n*Sign:* {sign}\\\\n*Day:* {data[\"date\"]}'\n",
    "#     bot.send_message(message.chat.id, \"Here's your horoscope!\")\n",
    "#     bot.send_message(message.chat.id, horoscope_message, parse_mode=\"Markdown\")"
   ]
  },
  {
   "cell_type": "code",
   "execution_count": null,
   "id": "f54c2c03",
   "metadata": {},
   "outputs": [
    {
     "name": "stdout",
     "output_type": "stream",
     "text": [
      "Normal Bard\n",
      "Normal Bard\n"
     ]
    },
    {
     "name": "stderr",
     "output_type": "stream",
     "text": [
      "2023-05-24 16:17:15,692 (__init__.py:960 MainThread) ERROR - TeleBot: \"Infinity polling exception: local variable 'day' referenced before assignment\"\n",
      "2023-05-24 16:17:15,710 (__init__.py:962 MainThread) ERROR - TeleBot: \"Exception traceback:\n",
      "Traceback (most recent call last):\n",
      "  File \"C:\\Users\\tanse\\anaconda3\\lib\\site-packages\\telebot\\__init__.py\", line 955, in infinity_polling\n",
      "    self.polling(non_stop=True, timeout=timeout, long_polling_timeout=long_polling_timeout,\n",
      "  File \"C:\\Users\\tanse\\anaconda3\\lib\\site-packages\\telebot\\__init__.py\", line 1043, in polling\n",
      "    self.__threaded_polling(non_stop=non_stop, interval=interval, timeout=timeout, long_polling_timeout=long_polling_timeout,\n",
      "  File \"C:\\Users\\tanse\\anaconda3\\lib\\site-packages\\telebot\\__init__.py\", line 1118, in __threaded_polling\n",
      "    raise e\n",
      "  File \"C:\\Users\\tanse\\anaconda3\\lib\\site-packages\\telebot\\__init__.py\", line 1074, in __threaded_polling\n",
      "    self.worker_pool.raise_exceptions()\n",
      "  File \"C:\\Users\\tanse\\anaconda3\\lib\\site-packages\\telebot\\util.py\", line 147, in raise_exceptions\n",
      "    raise self.exception_info\n",
      "  File \"C:\\Users\\tanse\\anaconda3\\lib\\site-packages\\telebot\\util.py\", line 90, in run\n",
      "    task(*args, **kwargs)\n",
      "  File \"C:\\Users\\tanse\\AppData\\Local\\Temp/ipykernel_2616/2944010486.py\", line 74, in fetch_horoscope\n",
      "    bardmsg = bard_api(day)\n",
      "UnboundLocalError: local variable 'day' referenced before assignment\n",
      "\"\n"
     ]
    }
   ],
   "source": [
    "bot.infinity_polling()"
   ]
  }
 ],
 "metadata": {
  "kernelspec": {
   "display_name": "Python 3 (ipykernel)",
   "language": "python",
   "name": "python3"
  },
  "language_info": {
   "codemirror_mode": {
    "name": "ipython",
    "version": 3
   },
   "file_extension": ".py",
   "mimetype": "text/x-python",
   "name": "python",
   "nbconvert_exporter": "python",
   "pygments_lexer": "ipython3",
   "version": "3.9.7"
  }
 },
 "nbformat": 4,
 "nbformat_minor": 5
}
